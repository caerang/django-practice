{
 "cells": [
  {
   "cell_type": "code",
   "execution_count": 2,
   "metadata": {},
   "outputs": [],
   "source": [
    "from making_queries.models import Blog\n",
    "\n",
    "b = Blog(name='Beatles Blog', tagline='All the latest Beatles news.')\n",
    "b.save()\n"
   ]
  },
  {
   "cell_type": "code",
   "execution_count": 4,
   "metadata": {},
   "outputs": [
    {
     "name": "stdout",
     "output_type": "stream",
     "text": [
      "[{'sql': 'BEGIN', 'time': '0.000'}, {'sql': 'INSERT INTO \"making_queries_blog\" (\"name\", \"tagline\") VALUES (\\'Beatles Blog\\', \\'All the latest Beatles news.\\')', 'time': '0.001'}]\n"
     ]
    }
   ],
   "source": [
    "from django.db import connection\n",
    "print (connection.queries)"
   ]
  },
  {
   "cell_type": "code",
   "execution_count": 6,
   "metadata": {},
   "outputs": [
    {
     "name": "stdout",
     "output_type": "stream",
     "text": [
      "SELECT \"making_queries_blog\".\"id\", \"making_queries_blog\".\"name\", \"making_queries_blog\".\"tagline\" FROM \"making_queries_blog\" WHERE \"making_queries_blog\".\"name\" = Beatles Blog\n"
     ]
    }
   ],
   "source": [
    "print(Blog.objects.filter(name='Beatles Blog').query)"
   ]
  }
 ],
 "metadata": {
  "kernelspec": {
   "display_name": "Django Shell-Plus",
   "language": "python",
   "name": "django_extensions"
  },
  "language_info": {
   "codemirror_mode": {
    "name": "ipython",
    "version": 3
   },
   "file_extension": ".py",
   "mimetype": "text/x-python",
   "name": "python",
   "nbconvert_exporter": "python",
   "pygments_lexer": "ipython3",
   "version": "3.6.0"
  }
 },
 "nbformat": 4,
 "nbformat_minor": 2
}
