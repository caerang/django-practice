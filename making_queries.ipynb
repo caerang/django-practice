{
 "cells": [
  {
   "cell_type": "markdown",
   "metadata": {},
   "source": [
    "# Making queries\n",
    "\n",
    "데이터 모델을 생성하면 개체를 생성, 삭제, 수정, 조회 할 수 있는 데이터베이스 추상화 API를 제공한다. 본 문서는 데이터베이스 추상화 API를 사용하는 방법을 설명한다. 다양한 모델 lookup 연산에 대한 자세한 설명은 data model reference를 참고해라\n",
    "\n",
    "이 가이드 전체에서 우리는 웹로그 어플리케이션을 구성하는 다음 모델을 참조할 것이다."
   ]
  },
  {
   "cell_type": "markdown",
   "metadata": {},
   "source": [
    "```python\n",
    "from django.db import models\n",
    "\n",
    "class Blog(models.Model):\n",
    "    name = models.CharField(max_length=100)\n",
    "    tagline = models.TextField()\n",
    "    \n",
    "    def __str__(self):\n",
    "        return self.name\n",
    "    \n",
    "class Author(models.Model):\n",
    "    name = models.CharField(max_length=200)\n",
    "    email = models.EmailField()\n",
    "    \n",
    "    def __str__(self):\n",
    "        return self.name\n",
    "    \n",
    "class Entry(models.Model):\n",
    "    blog = models.ForeignKey(Blog, on_delete=models.CASCADE)\n",
    "    headline = models.CharField(max_length=255)\n",
    "    body_text = models.TextField()\n",
    "    pub_date = models.DateField()\n",
    "    mod_date = models.DateField()\n",
    "    authros = models.ManyToManyField(Author)\n",
    "    n_comments = models.IntegerField()\n",
    "    n_pingbacks = models.IntegerField()\n",
    "    rating = models.IntegerField()\n",
    "    \n",
    "    def __str__(self):\n",
    "        return self.headline\n",
    "```"
   ]
  },
  {
   "cell_type": "code",
   "execution_count": 7,
   "metadata": {},
   "outputs": [],
   "source": [
    "MYPROJECT = '/d/01.Workspace/django-practice'\n",
    "import os, sys\n",
    "sys.path.insert(0, MYPROJECT)\n",
    "os.environ.setdefault(\"DJANGO_SETTINGS_MODULE\", \"settings.py\")\n",
    "import django\n",
    "django.setup()"
   ]
  },
  {
   "cell_type": "markdown",
   "metadata": {},
   "source": [
    "** 커멘드 쉘 또는 파이참 등의 실행 환경에서 데이터베이스 마이그레이션을 수행 한 후 아래 코드를 테스트 한다**"
   ]
  },
  {
   "cell_type": "markdown",
   "metadata": {},
   "source": [
    "## Creating objects\n",
    "\n",
    "데이터베이스 테이블 데이터를 파이썬 개체로 표현하기 위해 장고는 직관적인 체계를 사용한다. 모델 클래스는 테이블을 나타낸다. 그리고 모델 클래스의 개체는 테이블에 있는 특정한 개체를 나타낸다\n",
    "\n",
    "개체를 생서하기 위해서 모델 클래스에 키워드 매개 변수를 사용해서 인스턴스화한 후 데이터베이스에 저장하기 위해서 save()를 호출해라\n",
    "\n",
    "모델은 mysite/blog/models.py에 있다고 가정한다. 예제는 다음과 같다"
   ]
  },
  {
   "cell_type": "code",
   "execution_count": 4,
   "metadata": {},
   "outputs": [],
   "source": [
    "from making_queries.models import Blog\n",
    "\n",
    "b = Blog(name='Beatles Blog', tagline='All the latest Beatles news.')\n",
    "b.save()\n"
   ]
  },
  {
   "cell_type": "markdown",
   "metadata": {},
   "source": [
    "위 예제는 INSERT SQL 문을 수행한다. 장고는 명시적으로 save()를 호출하기 전까지 실제 데이터베이스에 데이터를 저장하지 않는다.\n",
    "\n",
    "save() 메소드는 반환 값이 없다.\n",
    "\n",
    "> 여기서는 설명하지 않지만 save()는 다양한 부가 옵션이 있다. 자세한 설명은 [save()](https://docs.djangoproject.com/en/2.0/ref/models/instances/#django.db.models.Model.save) 문서를 참고해라.\n",
    ">\n",
    "> 한 번에 개체를 생성하려면 create() 메소드를 사용해라\n",
    "\n"
   ]
  },
  {
   "cell_type": "markdown",
   "metadata": {},
   "source": [
    "## Saving changes to objects\n",
    "\n",
    "이미 데이터베이스에 있는 개체의 변화를 저장하기 위해서 save()를 사용해라.\n",
    "\n",
    "이미 데이터베이스에 저장된 b5 인스턴스가 주어졌단고 하면 이 예제는 b5의 이름을 변경하고 데이터베이스의 레코드를 갱신한다."
   ]
  },
  {
   "cell_type": "code",
   "execution_count": null,
   "metadata": {},
   "outputs": [],
   "source": [
    "b5.name = 'New name'\n",
    "b5.save()"
   ]
  },
  {
   "cell_type": "markdown",
   "metadata": {},
   "source": [
    "예제 코드는 UPDATE SQL 문을 수행한다. 장고는 명시적으로 save()를 호출하기 전까지 데이터베이스를 실행하지 않는다.\n",
    "\n",
    "### Saving ForeignKey and ManyToManyField fields\n",
    "\n",
    "ForeignKey 필드를 갱신 작업은 "
   ]
  },
  {
   "cell_type": "code",
   "execution_count": 5,
   "metadata": {},
   "outputs": [
    {
     "name": "stdout",
     "output_type": "stream",
     "text": [
      "[{'sql': 'BEGIN', 'time': '0.000'}, {'sql': 'INSERT INTO \"making_queries_blog\" (\"name\", \"tagline\") VALUES (\\'Beatles Blog\\', \\'All the latest Beatles news.\\')', 'time': '0.000'}, {'sql': 'BEGIN', 'time': '0.000'}, {'sql': 'INSERT INTO \"making_queries_blog\" (\"name\", \"tagline\") VALUES (\\'Beatles Blog\\', \\'All the latest Beatles news.\\')', 'time': '0.001'}]\n"
     ]
    }
   ],
   "source": [
    "from django.db import connection\n",
    "print (connection.queries)"
   ]
  },
  {
   "cell_type": "code",
   "execution_count": 6,
   "metadata": {},
   "outputs": [
    {
     "name": "stdout",
     "output_type": "stream",
     "text": [
      "SELECT \"making_queries_blog\".\"id\", \"making_queries_blog\".\"name\", \"making_queries_blog\".\"tagline\" FROM \"making_queries_blog\" WHERE \"making_queries_blog\".\"name\" = Beatles Blog\n"
     ]
    }
   ],
   "source": [
    "print(Blog.objects.filter(name='Beatles Blog').query)"
   ]
  }
 ],
 "metadata": {
  "kernelspec": {
   "display_name": "Python 3",
   "language": "python",
   "name": "python3"
  },
  "language_info": {
   "codemirror_mode": {
    "name": "ipython",
    "version": 3
   },
   "file_extension": ".py",
   "mimetype": "text/x-python",
   "name": "python",
   "nbconvert_exporter": "python",
   "pygments_lexer": "ipython3",
   "version": "3.6.4"
  }
 },
 "nbformat": 4,
 "nbformat_minor": 2
}
